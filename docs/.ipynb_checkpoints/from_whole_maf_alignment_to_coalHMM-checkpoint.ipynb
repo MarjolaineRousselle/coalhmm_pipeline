{
 "cells": [
  {
   "cell_type": "markdown",
   "metadata": {},
   "source": [
    "# This notebook presents the steps to go from a maf file with plenty of species to the lauching of CoalHMM for a chosen quartet"
   ]
  },
  {
   "cell_type": "markdown",
   "metadata": {},
   "source": [
    "### By Iker Rivas-González and Marjolaine Rousselle, started on 05/03/2020"
   ]
  },
  {
   "cell_type": "markdown",
   "metadata": {},
   "source": [
    "## 1. Filtering: From a whole maf file to a filtered maf file"
   ]
  },
  {
   "cell_type": "code",
   "execution_count": null,
   "metadata": {},
   "outputs": [],
   "source": [
    "### step performed by maffilter from one maf file, returning one maf file."
   ]
  },
  {
   "cell_type": "markdown",
   "metadata": {},
   "source": [
    "## 2. Slicing: From one filtered maf file to x maf files each containing ~2Mb to x fasta files"
   ]
  },
  {
   "cell_type": "code",
   "execution_count": null,
   "metadata": {},
   "outputs": [],
   "source": [
    "### step likely performed in python\n",
    "### fasta headers must contain : chunk number, species, chromosome, and chunk coordinates\n",
    "### intermediary slices maf files do not need to be output\n",
    "### Xth FASTA CAN BE REMOVED AFTER SUB-FASTA AND INFO TABLES ARE GENERATED (ie steps 3 and 4)"
   ]
  },
  {
   "cell_type": "markdown",
   "metadata": {},
   "source": [
    " ### From this step, parallelization: each slice treated in parallel:"
   ]
  },
  {
   "cell_type": "markdown",
   "metadata": {},
   "source": [
    "## 3. Generation of the xth info table (used to map back the posterior probabilities output by coalHMM on each species coordinates system) from the xth fasta file"
   ]
  },
  {
   "cell_type": "code",
   "execution_count": null,
   "metadata": {},
   "outputs": [],
   "source": [
    "### step performed by python from the xth fasta file, returns a csv/HDF\n",
    "### info tables must contain: chunkID, species, chromosome, chunk_start_coordinate, and binary description of \n",
    "### nucleotides (or N) vs. gaps in the chunk\n",
    "\n",
    "### Xth INFO TABLE CAN BE REMOVED AFTER THE MAPPING OF THE Xth OUTPUT OF coalHMM ON SPECIES CHROMOSOMES"
   ]
  },
  {
   "cell_type": "markdown",
   "metadata": {},
   "source": [
    "## 4. For each slice, generation of sub-fasta files for each chunk and generation of the xth list of those sub-fasta files and launching the xth coalHMM run"
   ]
  },
  {
   "cell_type": "code",
   "execution_count": null,
   "metadata": {},
   "outputs": [],
   "source": [
    "### step performed by python\n",
    "### EACH SUB-FASTA (OF THE Xth SLICE) CAN BE REMOVED AFTET THE Xth coalHMM RUN"
   ]
  },
  {
   "cell_type": "markdown",
   "metadata": {},
   "source": [
    "## 5. Mapping back the posterior probabilities of each slice on species chromosomes"
   ]
  },
  {
   "cell_type": "code",
   "execution_count": null,
   "metadata": {},
   "outputs": [],
   "source": [
    "### step performed by python -> at the end we want what? \n",
    "### one file per sepcies?\n",
    "### Plus we want to be able to map for each branches posterior in human!! --> human must be kept in addition to each quartet (except when it is already part of the quartet)\n"
   ]
  }
 ],
 "metadata": {
  "kernelspec": {
   "display_name": "Python 3",
   "language": "python",
   "name": "python3"
  },
  "language_info": {
   "codemirror_mode": {
    "name": "ipython",
    "version": 3
   },
   "file_extension": ".py",
   "mimetype": "text/x-python",
   "name": "python",
   "nbconvert_exporter": "python",
   "pygments_lexer": "ipython3",
   "version": "3.8.2"
  }
 },
 "nbformat": 4,
 "nbformat_minor": 2
}
